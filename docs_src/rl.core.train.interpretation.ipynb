{
 "cells": [
  {
   "cell_type": "code",
   "execution_count": 1,
   "metadata": {
    "pycharm": {
     "is_executing": false
    }
   },
   "outputs": [
    {
     "name": "stdout",
     "output_type": "stream",
     "text": [
      "Can't import one of these: No module named 'pybullet'\n",
      "Can't import one of these: No module named 'gym_maze'\n",
      "Can't import one of these: No module named 'gym_minigrid'\n"
     ]
    }
   ],
   "source": [
    "from fast_rl.agents.dqn import *\n",
    "from fast_rl.agents.dqn_models import FixedTargetDQNModule\n",
    "from fast_rl.core.agent_core import *\n",
    "from fast_rl.core.data_block import *\n",
    "from fast_rl.core.train import *"
   ]
  },
  {
   "cell_type": "code",
   "execution_count": 2,
   "metadata": {
    "pycharm": {
     "is_executing": true
    }
   },
   "outputs": [
    {
     "data": {
      "text/html": [
       "<table border=\"1\" class=\"dataframe\">\n",
       "  <thead>\n",
       "    <tr style=\"text-align: left;\">\n",
       "      <th>epoch</th>\n",
       "      <th>train_loss</th>\n",
       "      <th>valid_loss</th>\n",
       "      <th>time</th>\n",
       "    </tr>\n",
       "  </thead>\n",
       "  <tbody>\n",
       "    <tr>\n",
       "      <td>0</td>\n",
       "      <td>1.095179</td>\n",
       "      <td>#na#</td>\n",
       "      <td>00:00</td>\n",
       "    </tr>\n",
       "    <tr>\n",
       "      <td>1</td>\n",
       "      <td>1.026340</td>\n",
       "      <td>#na#</td>\n",
       "      <td>00:00</td>\n",
       "    </tr>\n",
       "    <tr>\n",
       "      <td>2</td>\n",
       "      <td>1.007764</td>\n",
       "      <td>#na#</td>\n",
       "      <td>00:00</td>\n",
       "    </tr>\n",
       "    <tr>\n",
       "      <td>3</td>\n",
       "      <td>1.001356</td>\n",
       "      <td>#na#</td>\n",
       "      <td>00:00</td>\n",
       "    </tr>\n",
       "    <tr>\n",
       "      <td>4</td>\n",
       "      <td>0.996845</td>\n",
       "      <td>#na#</td>\n",
       "      <td>00:00</td>\n",
       "    </tr>\n",
       "    <tr>\n",
       "      <td>5</td>\n",
       "      <td>0.993165</td>\n",
       "      <td>#na#</td>\n",
       "      <td>00:00</td>\n",
       "    </tr>\n",
       "    <tr>\n",
       "      <td>6</td>\n",
       "      <td>0.988180</td>\n",
       "      <td>#na#</td>\n",
       "      <td>00:00</td>\n",
       "    </tr>\n",
       "    <tr>\n",
       "      <td>7</td>\n",
       "      <td>0.986040</td>\n",
       "      <td>#na#</td>\n",
       "      <td>00:00</td>\n",
       "    </tr>\n",
       "    <tr>\n",
       "      <td>8</td>\n",
       "      <td>0.982307</td>\n",
       "      <td>#na#</td>\n",
       "      <td>00:00</td>\n",
       "    </tr>\n",
       "    <tr>\n",
       "      <td>9</td>\n",
       "      <td>0.976414</td>\n",
       "      <td>#na#</td>\n",
       "      <td>00:00</td>\n",
       "    </tr>\n",
       "  </tbody>\n",
       "</table>"
      ],
      "text/plain": [
       "<IPython.core.display.HTML object>"
      ]
     },
     "metadata": {},
     "output_type": "display_data"
    }
   ],
   "source": [
    "data = MDPDataBunch.from_env('CartPole-v0', render='rgb_array', bs=32, add_valid=False, \n",
    "                             memory_management_strategy='k_partitions_top', k=3)\n",
    "model = create_dqn_model(data, FixedTargetDQNModule, opt=torch.optim.RMSprop)\n",
    "memory = ExperienceReplay(10000)\n",
    "exploration_method = GreedyEpsilon(epsilon_start=1, epsilon_end=0.1, decay=0.001)\n",
    "learner = dqn_learner(data=data, model=model, memory=memory, exploration_method=exploration_method)\n",
    "learner.fit(10)"
   ]
  },
  {
   "cell_type": "code",
   "execution_count": 7,
   "metadata": {
    "pycharm": {
     "is_executing": true,
     "name": "#%%\n"
    }
   },
   "outputs": [
    {
     "name": "stderr",
     "output_type": "stream",
     "text": [
      "\r",
      "t:   0%|          | 0/10 [00:00<?, ?it/s, now=None]"
     ]
    },
    {
     "name": "stdout",
     "output_type": "stream",
     "text": [
      "Moviepy - Building video __temp__.mp4.\n",
      "Moviepy - Writing video __temp__.mp4\n",
      "\n"
     ]
    },
    {
     "name": "stderr",
     "output_type": "stream",
     "text": [
      "                                                            \r"
     ]
    },
    {
     "name": "stdout",
     "output_type": "stream",
     "text": [
      "Moviepy - Done !\n",
      "Moviepy - video ready __temp__.mp4\n"
     ]
    },
    {
     "data": {
      "text/html": [
       "<div align=middle><video loop='True' autoplay='True'src='data:video/mp4;base64,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' controls>Sorry, seems like your browser doesn't support HTML5 audio/video</video></div>"
      ],
      "text/plain": [
       "<moviepy.video.io.html_tools.HTML2 object>"
      ]
     },
     "execution_count": 7,
     "metadata": {},
     "output_type": "execute_result"
    }
   ],
   "source": [
    "interp = AgentInterpretation(learner, ds_type=DatasetType.Train)\n",
    "interp.generate_gif(2).plot()"
   ]
  }
 ],
 "metadata": {
  "kernelspec": {
   "display_name": "Python 3",
   "language": "python",
   "name": "python3"
  },
  "language_info": {
   "codemirror_mode": {
    "name": "ipython",
    "version": 3
   },
   "file_extension": ".py",
   "mimetype": "text/x-python",
   "name": "python",
   "nbconvert_exporter": "python",
   "pygments_lexer": "ipython3",
   "version": "3.6.7"
  },
  "pycharm": {
   "stem_cell": {
    "cell_type": "raw",
    "metadata": {
     "collapsed": false
    },
    "source": []
   }
  }
 },
 "nbformat": 4,
 "nbformat_minor": 1
}
