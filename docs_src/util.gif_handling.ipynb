{
 "cells": [
  {
   "cell_type": "code",
   "execution_count": 3,
   "metadata": {
    "pycharm": {
     "is_executing": true
    }
   },
   "outputs": [],
   "source": [
    "import os\n",
    "from pathlib import Path\n",
    "from pygifsicle import optimize"
   ]
  },
  {
   "cell_type": "code",
   "execution_count": 14,
   "metadata": {},
   "outputs": [],
   "source": [
    "root_location='../res/run_gifs/'\n",
    "gif_list=list(filter(lambda x:x.__contains__('.gif'),os.listdir(root_location)))"
   ]
  },
  {
   "cell_type": "code",
   "execution_count": 22,
   "metadata": {},
   "outputs": [
    {
     "name": "stdout",
     "output_type": "stream",
     "text": [
      "lunarlander_ExperienceReplay_DQNModule_1_episode_999.gif\n",
      "5763851\n",
      "pendulum_ExperienceReplay_DDPGModule_1_episode_9.gif\n",
      "6137289\n",
      "ant_PriorityExperienceReplay_DDPGModule_1_episode_52.gif\n",
      "36778535\n",
      "acrobot_PriorityExperienceReplay_DDPGModule_1_episode_422.gif\n",
      "11609189\n",
      "lunarlander_ExperienceReplay_DoubleDQNModule_1_episode_999.gif\n",
      "30830092\n",
      "cartpole_ExperienceReplay_DuelingDQNModule_1_episode_209.gif\n",
      "10199465\n",
      "cartpole_ExperienceReplay_DoubleDuelingModule_1_episode_287.gif\n",
      "15570903\n",
      "cartpole_PriorityExperienceReplay_DQNModule_1_episode_216.gif\n",
      "15568358\n",
      "pendulum_ExperienceReplay_DDPGModule_1_episode_238.gif\n",
      "6207670\n",
      "cartpole_PriorityExperienceReplay_DQNModule_1_episode_413.gif\n",
      "15569273\n",
      "pendulum_PriorityExperienceReplay_DDPGModule_1_episode_222.gif\n",
      "6196534\n",
      "ant_PriorityExperienceReplay_DDPGModule_1_episode_596.gif\n",
      "38467938\n",
      "cartpole_ExperienceReplay_FixedTargetDQNModule_1_episode_438.gif\n",
      "15570906\n",
      "ant_ExperienceReplay_DDPGModule_1_episode_999.gif\n",
      "38440713\n",
      "cartpole_ExperienceReplay_DQNModule_1_episode_447.gif\n",
      "15568641\n",
      "cartpole_PriorityExperienceReplay_DuelingDQNModule_1_episode_272.gif\n",
      "12825806\n",
      "ant_ExperienceReplay_DDPGModule_1_episode_614.gif\n",
      "37835325\n",
      "lunarlander_ExperienceReplay_DoubleDuelingModule_1_episode_925.gif\n",
      "30479702\n",
      "cartpole_ExperienceReplay_FixedTargetDQNModule_1_episode_309.gif\n",
      "12057776\n",
      "pendulum_PriorityExperienceReplay_DDPGModule_1_episode_431.gif\n",
      "6286405\n",
      "pendulum_PriorityExperienceReplay_DDPGModule_1_episode_35.gif\n",
      "6134796\n",
      "lunarlander_PriorityExperienceReplay_DoubleDQNModule_1_episode_514.gif\n",
      "30584499\n",
      "cartpole_PriorityExperienceReplay_DoubleDQNModule_1_episode_269.gif\n",
      "6415006\n",
      "cartpole_PriorityExperienceReplay_FixedTargetDQNModule_1_episode_265.gif\n",
      "6786116\n",
      "ant_ExperienceReplay_DDPGModule_1_episode_54.gif\n",
      "38083113\n",
      "cartpole_ExperienceReplay_DQNModule_1_episode_207.gif\n",
      "15571349\n",
      "cartpole_ExperienceReplay_DuelingDQNModule_1_episode_432.gif\n",
      "15515122\n",
      "cartpole_ExperienceReplay_DoubleDQNModule_1_episode_438.gif\n",
      "10103383\n",
      "cartpole_PriorityExperienceReplay_DoubleDQNModule_1_episode_444.gif\n",
      "15459933\n",
      "cartpole_ExperienceReplay_DoubleDuelingModule_1_episode_447.gif\n",
      "15569151\n",
      "ant_PriorityExperienceReplay_DDPGModule_1_episode_984.gif\n",
      "37563630\n",
      "lunarlander_ExperienceReplay_DoubleDQNModule_1_episode_613.gif\n",
      "15766535\n",
      "lunarlander_ExperienceReplay_DuelingDQNModule_1_episode_980.gif\n",
      "30719225\n",
      "lunarlander_PriorityExperienceReplay_DoubleDuelingModule_1_episode_999.gif\n",
      "5376415\n",
      "pendulum_ExperienceReplay_DDPGModule_1_episode_447.gif\n",
      "6241684\n",
      "cartpole_ExperienceReplay_DoubleDQNModule_1_episode_268.gif\n",
      "15578381\n"
     ]
    }
   ],
   "source": [
    "for g_i in gif_list:\n",
    "    # 2,600,000== 2.6 mb\n",
    "    if Path(root_location+g_i).stat().st_size > 5000000:\n",
    "        print(g_i)\n",
    "        print(Path(root_location+g_i).stat().st_size)\n",
    "        optimize(str(Path(root_location+g_i)))"
   ]
  },
  {
   "cell_type": "code",
   "execution_count": 185,
   "metadata": {},
   "outputs": [],
   "source": [
    "import pandas as pd"
   ]
  },
  {
   "cell_type": "code",
   "execution_count": 193,
   "metadata": {},
   "outputs": [],
   "source": [
    "df=pd.DataFrame(data={\"Model\":[],\"Gif(Early)\":[],\"Gif(Mid)\":[],\"Gif(Late)\":[]})"
   ]
  },
  {
   "cell_type": "code",
   "execution_count": 194,
   "metadata": {},
   "outputs": [],
   "source": [
    "gifs=os.listdir('../res/run_gifs')"
   ]
  },
  {
   "cell_type": "code",
   "execution_count": 195,
   "metadata": {},
   "outputs": [],
   "source": [
    "def filter_str_list(some_list,contains):\n",
    "    return [o for o in some_list if o.__contains__(contains) and not o.__contains__('.py')]\n",
    "def parse_model_mem(item):\n",
    "    output=\"+PER\" if item.__contains__('PriorityExperienceReplay') else \"+ER\"\n",
    "    return [o[:-6] for o in item.split('_') if o.__contains__('Module')][0]+output\n",
    "def convert_gif_to_link(item):\n",
    "    return f'![](./res/run_gifs/{item})'\n",
    "def take_second(elem):\n",
    "    return elem[1]"
   ]
  },
  {
   "cell_type": "code",
   "execution_count": 196,
   "metadata": {},
   "outputs": [],
   "source": [
    "for env in set([n.split('_')[0] for n in gifs if n!='']):\n",
    "    local_list=sorted(filter_str_list(gifs,env))\n",
    "    unique_runs=list(set(['_'.join(o.split('_')[:-2]) for o in local_list]))\n",
    "    for item in unique_runs:\n",
    "        row_list=filter_str_list(local_list,item)\n",
    "        if len(row_list)==0: continue\n",
    "        row_list=list(sorted([(o,o.split('_')[-1][:-4]) for o in row_list[:3]],key=take_second,reverse=True))\n",
    "        row_list=[o[0] for o in row_list]\n",
    "        df=df.append(pd.DataFrame(data={\"Model\":[parse_model_mem(item)],\n",
    "                                \"Gif(Early)\":[row_list[0]],\n",
    "                                \"Gif(Mid)\":[row_list[1]],\n",
    "                                \"Gif(Late)\":[row_list[2]]}))"
   ]
  },
  {
   "cell_type": "code",
   "execution_count": 197,
   "metadata": {},
   "outputs": [],
   "source": [
    "df.reset_index(inplace=True)"
   ]
  },
  {
   "cell_type": "code",
   "execution_count": 198,
   "metadata": {},
   "outputs": [
    {
     "name": "stdout",
     "output_type": "stream",
     "text": [
      "|      Model    |   Gif(Early)    |   Gif(Mid)    |   Gif(Late)     |\n",
      "|:------------:|:------------:|:------------:|:------------:|\n",
      "| FixedTargetDQN+ER | ![](../res/run_gifs/cartpole_ExperienceReplay_FixedTargetDQNModule_1_episode_57.gif)  | ![](../res/run_gifs/cartpole_ExperienceReplay_FixedTargetDQNModule_1_episode_438.gif)  | ![](../res/run_gifs/cartpole_ExperienceReplay_FixedTargetDQNModule_1_episode_309.gif)|\n",
      "| FixedTargetDQN+PER | ![](../res/run_gifs/cartpole_PriorityExperienceReplay_FixedTargetDQNModule_1_episode_449.gif)  | ![](../res/run_gifs/cartpole_PriorityExperienceReplay_FixedTargetDQNModule_1_episode_265.gif)  | ![](../res/run_gifs/cartpole_PriorityExperienceReplay_FixedTargetDQNModule_1_episode_13.gif)|\n",
      "| DDPG+PER | ![](../res/run_gifs/pendulum_PriorityExperienceReplay_DDPGModule_1_episode_431.gif)  | ![](../res/run_gifs/pendulum_PriorityExperienceReplay_DDPGModule_1_episode_35.gif)  | ![](../res/run_gifs/pendulum_PriorityExperienceReplay_DDPGModule_1_episode_222.gif)|\n",
      "| DoubleDueling+ER | ![](../res/run_gifs/cartpole_ExperienceReplay_DoubleDuelingModule_1_episode_447.gif)  | ![](../res/run_gifs/cartpole_ExperienceReplay_DoubleDuelingModule_1_episode_43.gif)  | ![](../res/run_gifs/cartpole_ExperienceReplay_DoubleDuelingModule_1_episode_287.gif)|\n",
      "| DoubleDueling+PER | ![](../res/run_gifs/lunarlander_PriorityExperienceReplay_DoubleDuelingModule_1_episode_999.gif)  | ![](../res/run_gifs/lunarlander_PriorityExperienceReplay_DoubleDuelingModule_1_episode_341.gif)  | ![](../res/run_gifs/lunarlander_PriorityExperienceReplay_DoubleDuelingModule_1_episode_151.gif)|\n",
      "| DuelingDQN+PER | ![](../res/run_gifs/cartpole_PriorityExperienceReplay_DuelingDQNModule_1_episode_69.gif)  | ![](../res/run_gifs/cartpole_PriorityExperienceReplay_DuelingDQNModule_1_episode_438.gif)  | ![](../res/run_gifs/cartpole_PriorityExperienceReplay_DuelingDQNModule_1_episode_272.gif)|\n",
      "| DDPG+ER | ![](../res/run_gifs/acrobot_ExperienceReplay_DDPGModule_1_episode_69.gif)  | ![](../res/run_gifs/acrobot_ExperienceReplay_DDPGModule_1_episode_438.gif)  | ![](../res/run_gifs/acrobot_ExperienceReplay_DDPGModule_1_episode_197.gif)|\n",
      "| DQN+PER | ![](../res/run_gifs/cartpole_PriorityExperienceReplay_DQNModule_1_episode_44.gif)  | ![](../res/run_gifs/cartpole_PriorityExperienceReplay_DQNModule_1_episode_413.gif)  | ![](../res/run_gifs/cartpole_PriorityExperienceReplay_DQNModule_1_episode_216.gif)|\n",
      "| DoubleDQN+ER | ![](../res/run_gifs/lunarlander_ExperienceReplay_DoubleDQNModule_1_episode_999.gif)  | ![](../res/run_gifs/lunarlander_ExperienceReplay_DoubleDQNModule_1_episode_88.gif)  | ![](../res/run_gifs/lunarlander_ExperienceReplay_DoubleDQNModule_1_episode_613.gif)|\n",
      "| DuelingDQN+ER | ![](../res/run_gifs/lunarlander_ExperienceReplay_DuelingDQNModule_1_episode_980.gif)  | ![](../res/run_gifs/lunarlander_ExperienceReplay_DuelingDQNModule_1_episode_431.gif)  | ![](../res/run_gifs/lunarlander_ExperienceReplay_DuelingDQNModule_1_episode_112.gif)|\n",
      "| DoubleDQN+ER | ![](../res/run_gifs/cartpole_ExperienceReplay_DoubleDQNModule_1_episode_60.gif)  | ![](../res/run_gifs/cartpole_ExperienceReplay_DoubleDQNModule_1_episode_438.gif)  | ![](../res/run_gifs/cartpole_ExperienceReplay_DoubleDQNModule_1_episode_268.gif)|\n",
      "| DoubleDQN+PER | ![](../res/run_gifs/cartpole_PriorityExperienceReplay_DoubleDQNModule_1_episode_444.gif)  | ![](../res/run_gifs/cartpole_PriorityExperienceReplay_DoubleDQNModule_1_episode_35.gif)  | ![](../res/run_gifs/cartpole_PriorityExperienceReplay_DoubleDQNModule_1_episode_269.gif)|\n",
      "| DuelingDQN+ER | ![](../res/run_gifs/cartpole_ExperienceReplay_DuelingDQNModule_1_episode_62.gif)  | ![](../res/run_gifs/cartpole_ExperienceReplay_DuelingDQNModule_1_episode_432.gif)  | ![](../res/run_gifs/cartpole_ExperienceReplay_DuelingDQNModule_1_episode_209.gif)|\n",
      "| DQN+PER | ![](../res/run_gifs/lunarlander_PriorityExperienceReplay_DQNModule_1_episode_99.gif)  | ![](../res/run_gifs/lunarlander_PriorityExperienceReplay_DQNModule_1_episode_949.gif)  | ![](../res/run_gifs/lunarlander_PriorityExperienceReplay_DQNModule_1_episode_382.gif)|\n",
      "| DoubleDueling+ER | ![](../res/run_gifs/lunarlander_ExperienceReplay_DoubleDuelingModule_1_episode_925.gif)  | ![](../res/run_gifs/lunarlander_ExperienceReplay_DoubleDuelingModule_1_episode_346.gif)  | ![](../res/run_gifs/lunarlander_ExperienceReplay_DoubleDuelingModule_1_episode_114.gif)|\n",
      "| DDPG+PER | ![](../res/run_gifs/acrobot_PriorityExperienceReplay_DDPGModule_1_episode_55.gif)  | ![](../res/run_gifs/acrobot_PriorityExperienceReplay_DDPGModule_1_episode_422.gif)  | ![](../res/run_gifs/acrobot_PriorityExperienceReplay_DDPGModule_1_episode_267.gif)|\n",
      "| DQN+ER | ![](../res/run_gifs/cartpole_ExperienceReplay_DQNModule_1_episode_447.gif)  | ![](../res/run_gifs/cartpole_ExperienceReplay_DQNModule_1_episode_31.gif)  | ![](../res/run_gifs/cartpole_ExperienceReplay_DQNModule_1_episode_207.gif)|\n",
      "| DoubleDueling+PER | ![](../res/run_gifs/cartpole_PriorityExperienceReplay_DoubleDuelingModule_1_episode_438.gif)  | ![](../res/run_gifs/cartpole_PriorityExperienceReplay_DoubleDuelingModule_1_episode_260.gif)  | ![](../res/run_gifs/cartpole_PriorityExperienceReplay_DoubleDuelingModule_1_episode_2.gif)|\n",
      "| DQN+ER | ![](../res/run_gifs/lunarlander_ExperienceReplay_DQNModule_1_episode_999.gif)  | ![](../res/run_gifs/lunarlander_ExperienceReplay_DQNModule_1_episode_93.gif)  | ![](../res/run_gifs/lunarlander_ExperienceReplay_DQNModule_1_episode_541.gif)|\n",
      "| DuelingDQN+PER | ![](../res/run_gifs/lunarlander_PriorityExperienceReplay_DuelingDQNModule_1_episode_998.gif)  | ![](../res/run_gifs/lunarlander_PriorityExperienceReplay_DuelingDQNModule_1_episode_442.gif)  | ![](../res/run_gifs/lunarlander_PriorityExperienceReplay_DuelingDQNModule_1_episode_21.gif)|\n",
      "| DDPG+PER | ![](../res/run_gifs/ant_PriorityExperienceReplay_DDPGModule_1_episode_984.gif)  | ![](../res/run_gifs/ant_PriorityExperienceReplay_DDPGModule_1_episode_596.gif)  | ![](../res/run_gifs/ant_PriorityExperienceReplay_DDPGModule_1_episode_52.gif)|\n",
      "| DDPG+ER | ![](../res/run_gifs/ant_ExperienceReplay_DDPGModule_1_episode_999.gif)  | ![](../res/run_gifs/ant_ExperienceReplay_DDPGModule_1_episode_614.gif)  | ![](../res/run_gifs/ant_ExperienceReplay_DDPGModule_1_episode_54.gif)|\n",
      "| DoubleDQN+PER | ![](../res/run_gifs/lunarlander_PriorityExperienceReplay_DoubleDQNModule_1_episode_999.gif)  | ![](../res/run_gifs/lunarlander_PriorityExperienceReplay_DoubleDQNModule_1_episode_7.gif)  | ![](../res/run_gifs/lunarlander_PriorityExperienceReplay_DoubleDQNModule_1_episode_514.gif)|\n",
      "| DDPG+ER | ![](../res/run_gifs/pendulum_ExperienceReplay_DDPGModule_1_episode_9.gif)  | ![](../res/run_gifs/pendulum_ExperienceReplay_DDPGModule_1_episode_447.gif)  | ![](../res/run_gifs/pendulum_ExperienceReplay_DDPGModule_1_episode_238.gif)|\n",
      "| DDPG+PER | ![](../res/run_gifs/pendulum_PriorityExperienceReplay_DDPGModule_1_episode_431.gif)  | ![](../res/run_gifs/pendulum_PriorityExperienceReplay_DDPGModule_1_episode_35.gif)  | ![](../res/run_gifs/pendulum_PriorityExperienceReplay_DDPGModule_1_episode_222.gif)|\n",
      "| DoubleDueling+ER | ![](../res/run_gifs/lunarlander_ExperienceReplay_DoubleDuelingModule_1_episode_925.gif)  | ![](../res/run_gifs/lunarlander_ExperienceReplay_DoubleDuelingModule_1_episode_346.gif)  | ![](../res/run_gifs/lunarlander_ExperienceReplay_DoubleDuelingModule_1_episode_114.gif)|\n",
      "| DoubleDQN+ER | ![](../res/run_gifs/lunarlander_ExperienceReplay_DoubleDQNModule_1_episode_999.gif)  | ![](../res/run_gifs/lunarlander_ExperienceReplay_DoubleDQNModule_1_episode_88.gif)  | ![](../res/run_gifs/lunarlander_ExperienceReplay_DoubleDQNModule_1_episode_613.gif)|\n",
      "| DuelingDQN+ER | ![](../res/run_gifs/lunarlander_ExperienceReplay_DuelingDQNModule_1_episode_980.gif)  | ![](../res/run_gifs/lunarlander_ExperienceReplay_DuelingDQNModule_1_episode_431.gif)  | ![](../res/run_gifs/lunarlander_ExperienceReplay_DuelingDQNModule_1_episode_112.gif)|\n",
      "| DoubleDueling+PER | ![](../res/run_gifs/lunarlander_PriorityExperienceReplay_DoubleDuelingModule_1_episode_999.gif)  | ![](../res/run_gifs/lunarlander_PriorityExperienceReplay_DoubleDuelingModule_1_episode_341.gif)  | ![](../res/run_gifs/lunarlander_PriorityExperienceReplay_DoubleDuelingModule_1_episode_151.gif)|\n",
      "| DQN+ER | ![](../res/run_gifs/lunarlander_ExperienceReplay_DQNModule_1_episode_999.gif)  | ![](../res/run_gifs/lunarlander_ExperienceReplay_DQNModule_1_episode_93.gif)  | ![](../res/run_gifs/lunarlander_ExperienceReplay_DQNModule_1_episode_541.gif)|\n",
      "| DuelingDQN+PER | ![](../res/run_gifs/lunarlander_PriorityExperienceReplay_DuelingDQNModule_1_episode_998.gif)  | ![](../res/run_gifs/lunarlander_PriorityExperienceReplay_DuelingDQNModule_1_episode_442.gif)  | ![](../res/run_gifs/lunarlander_PriorityExperienceReplay_DuelingDQNModule_1_episode_21.gif)|\n",
      "| DQN+PER | ![](../res/run_gifs/lunarlander_PriorityExperienceReplay_DQNModule_1_episode_99.gif)  | ![](../res/run_gifs/lunarlander_PriorityExperienceReplay_DQNModule_1_episode_949.gif)  | ![](../res/run_gifs/lunarlander_PriorityExperienceReplay_DQNModule_1_episode_382.gif)|\n",
      "| DoubleDQN+PER | ![](../res/run_gifs/lunarlander_PriorityExperienceReplay_DoubleDQNModule_1_episode_999.gif)  | ![](../res/run_gifs/lunarlander_PriorityExperienceReplay_DoubleDQNModule_1_episode_7.gif)  | ![](../res/run_gifs/lunarlander_PriorityExperienceReplay_DoubleDQNModule_1_episode_514.gif)|\n",
      "| DDPG+PER | ![](../res/run_gifs/ant_PriorityExperienceReplay_DDPGModule_1_episode_984.gif)  | ![](../res/run_gifs/ant_PriorityExperienceReplay_DDPGModule_1_episode_596.gif)  | ![](../res/run_gifs/ant_PriorityExperienceReplay_DDPGModule_1_episode_52.gif)|\n",
      "| DDPG+ER | ![](../res/run_gifs/ant_ExperienceReplay_DDPGModule_1_episode_999.gif)  | ![](../res/run_gifs/ant_ExperienceReplay_DDPGModule_1_episode_614.gif)  | ![](../res/run_gifs/ant_ExperienceReplay_DDPGModule_1_episode_54.gif)|\n",
      "| DQN+PER | ![](../res/run_gifs/cartpole_PriorityExperienceReplay_DQNModule_1_episode_44.gif)  | ![](../res/run_gifs/cartpole_PriorityExperienceReplay_DQNModule_1_episode_413.gif)  | ![](../res/run_gifs/cartpole_PriorityExperienceReplay_DQNModule_1_episode_216.gif)|\n",
      "| FixedTargetDQN+ER | ![](../res/run_gifs/cartpole_ExperienceReplay_FixedTargetDQNModule_1_episode_57.gif)  | ![](../res/run_gifs/cartpole_ExperienceReplay_FixedTargetDQNModule_1_episode_438.gif)  | ![](../res/run_gifs/cartpole_ExperienceReplay_FixedTargetDQNModule_1_episode_309.gif)|\n",
      "| DQN+ER | ![](../res/run_gifs/cartpole_ExperienceReplay_DQNModule_1_episode_447.gif)  | ![](../res/run_gifs/cartpole_ExperienceReplay_DQNModule_1_episode_31.gif)  | ![](../res/run_gifs/cartpole_ExperienceReplay_DQNModule_1_episode_207.gif)|\n",
      "| FixedTargetDQN+PER | ![](../res/run_gifs/cartpole_PriorityExperienceReplay_FixedTargetDQNModule_1_episode_449.gif)  | ![](../res/run_gifs/cartpole_PriorityExperienceReplay_FixedTargetDQNModule_1_episode_265.gif)  | ![](../res/run_gifs/cartpole_PriorityExperienceReplay_FixedTargetDQNModule_1_episode_13.gif)|\n",
      "| DoubleDQN+ER | ![](../res/run_gifs/cartpole_ExperienceReplay_DoubleDQNModule_1_episode_60.gif)  | ![](../res/run_gifs/cartpole_ExperienceReplay_DoubleDQNModule_1_episode_438.gif)  | ![](../res/run_gifs/cartpole_ExperienceReplay_DoubleDQNModule_1_episode_268.gif)|\n",
      "| DoubleDQN+PER | ![](../res/run_gifs/cartpole_PriorityExperienceReplay_DoubleDQNModule_1_episode_444.gif)  | ![](../res/run_gifs/cartpole_PriorityExperienceReplay_DoubleDQNModule_1_episode_35.gif)  | ![](../res/run_gifs/cartpole_PriorityExperienceReplay_DoubleDQNModule_1_episode_269.gif)|\n",
      "| DuelingDQN+ER | ![](../res/run_gifs/cartpole_ExperienceReplay_DuelingDQNModule_1_episode_62.gif)  | ![](../res/run_gifs/cartpole_ExperienceReplay_DuelingDQNModule_1_episode_432.gif)  | ![](../res/run_gifs/cartpole_ExperienceReplay_DuelingDQNModule_1_episode_209.gif)|\n",
      "| DoubleDueling+PER | ![](../res/run_gifs/cartpole_PriorityExperienceReplay_DoubleDuelingModule_1_episode_438.gif)  | ![](../res/run_gifs/cartpole_PriorityExperienceReplay_DoubleDuelingModule_1_episode_260.gif)  | ![](../res/run_gifs/cartpole_PriorityExperienceReplay_DoubleDuelingModule_1_episode_2.gif)|\n",
      "| DuelingDQN+PER | ![](../res/run_gifs/cartpole_PriorityExperienceReplay_DuelingDQNModule_1_episode_69.gif)  | ![](../res/run_gifs/cartpole_PriorityExperienceReplay_DuelingDQNModule_1_episode_438.gif)  | ![](../res/run_gifs/cartpole_PriorityExperienceReplay_DuelingDQNModule_1_episode_272.gif)|\n",
      "| DoubleDueling+ER | ![](../res/run_gifs/cartpole_ExperienceReplay_DoubleDuelingModule_1_episode_447.gif)  | ![](../res/run_gifs/cartpole_ExperienceReplay_DoubleDuelingModule_1_episode_43.gif)  | ![](../res/run_gifs/cartpole_ExperienceReplay_DoubleDuelingModule_1_episode_287.gif)|\n",
      "| DDPG+ER | ![](../res/run_gifs/acrobot_ExperienceReplay_DDPGModule_1_episode_69.gif)  | ![](../res/run_gifs/acrobot_ExperienceReplay_DDPGModule_1_episode_438.gif)  | ![](../res/run_gifs/acrobot_ExperienceReplay_DDPGModule_1_episode_197.gif)|\n",
      "| DDPG+PER | ![](../res/run_gifs/acrobot_PriorityExperienceReplay_DDPGModule_1_episode_55.gif)  | ![](../res/run_gifs/acrobot_PriorityExperienceReplay_DDPGModule_1_episode_422.gif)  | ![](../res/run_gifs/acrobot_PriorityExperienceReplay_DDPGModule_1_episode_267.gif)|\n"
     ]
    }
   ],
   "source": [
    "for i,row in df.iterrows():\n",
    "    if i==0:\n",
    "        print('|      ' + '    |   '.join(df.columns[1:]) + '     |')\n",
    "        print('|:------------:'*len(df.columns[1:]) + '|')\n",
    "    else:\n",
    "        print(f'| {list(row)[1]} | ' + '  | '.join([convert_gif_to_link(o) for o in list(row)[2:]])  + '|')"
   ]
  },
  {
   "cell_type": "code",
   "execution_count": null,
   "metadata": {},
   "outputs": [],
   "source": []
  }
 ],
 "metadata": {
  "kernelspec": {
   "display_name": "PyCharm (fast-reinforcement-learning)",
   "language": "python",
   "name": "pycharm-acf1a9e4"
  },
  "language_info": {
   "codemirror_mode": {
    "name": "ipython",
    "version": 3
   },
   "file_extension": ".py",
   "mimetype": "text/x-python",
   "name": "python",
   "nbconvert_exporter": "python",
   "pygments_lexer": "ipython3",
   "version": "3.6.7"
  },
  "pycharm": {
   "stem_cell": {
    "cell_type": "raw",
    "source": [],
    "metadata": {
     "collapsed": false
    }
   }
  }
 },
 "nbformat": 4,
 "nbformat_minor": 1
}