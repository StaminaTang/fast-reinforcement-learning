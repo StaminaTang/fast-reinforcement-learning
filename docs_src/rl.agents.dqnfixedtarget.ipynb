{
 "cells": [
  {
   "cell_type": "code",
   "execution_count": 1,
   "metadata": {
    "pycharm": {
     "is_executing": false
    }
   },
   "outputs": [],
   "source": [
    "from fast_rl.core.basic_train import AgentLearner\n",
    "from fast_rl.agents.dqn import FixedTargetDQN, FixedTargetDQNCallback\n",
    "from fast_rl.core.train import AgentInterpretation, GroupAgentInterpretation\n",
    "from fast_rl.core.data_block import MDPDataBunch\n",
    "from fast_rl.core.agent_core import ExperienceReplay, GreedyEpsilon\n",
    "from fastai.gen_doc.nbdoc import *"
   ]
  },
  {
   "cell_type": "code",
   "execution_count": 2,
   "metadata": {
    "pycharm": {
     "is_executing": false
    }
   },
   "outputs": [],
   "source": [
    "data = MDPDataBunch.from_env('CartPole-v1', render='rgb_array', bs=128)"
   ]
  },
  {
   "cell_type": "code",
   "execution_count": 3,
   "metadata": {
    "pycharm": {
     "is_executing": false
    }
   },
   "outputs": [
    {
     "data": {
      "text/markdown": [
       "<h4 id=\"FixedTargetDQN.__init__\" class=\"doc_header\"><code>__init__</code><a class=\"source_link\" data-toggle=\"collapse\" data-target=\"#FixedTargetDQN-__init__-pytest\" style=\"float:right; padding-right:10px\">[test]</a></h4>\n",
       "\n",
       "> <code>__init__</code>(**`data`**:`MDPDataBunch`, **`memory`**=***`None`***, **`tau`**=***`0.01`***, **`copy_over_frequency`**=***`3`***, **\\*\\*`kwargs`**)\n",
       "\n",
       "<div class=\"collapse\" id=\"FixedTargetDQN-__init__-pytest\"><div class=\"card card-body pytest_card\"><a type=\"button\" data-toggle=\"collapse\" data-target=\"#FixedTargetDQN-__init__-pytest\" class=\"close\" aria-label=\"Close\"><span aria-hidden=\"true\">&times;</span></a><p>No tests found for <code>__init__</code>. To contribute a test please refer to <a href=\"/dev/test.html\">this guide</a> and <a href=\"https://forums.fast.ai/t/improving-expanding-functional-tests/32929\">this discussion</a>.</p></div></div>\n",
       "\n",
       "Trains an Agent using the Q Learning method on a 2 neural nets. Notes:\n",
       "    Unlike the base DQN, this is a true reflection of ref [1]. We use 2 models instead of one to allow for\n",
       "    training the action model more stably.\n",
       "\n",
       "Args:\n",
       "    data: Used for size input / output information.\n",
       "\n",
       "References:\n",
       "    [1] Mnih, Volodymyr, et al. \"Playing atari with deep reinforcement learning.\"\n",
       "    arXiv preprint arXiv:1312.5602 (2013). "
      ],
      "text/plain": [
       "<IPython.core.display.Markdown object>"
      ]
     },
     "metadata": {},
     "output_type": "display_data"
    }
   ],
   "source": [
    "show_doc(FixedTargetDQN.__init__)"
   ]
  },
  {
   "cell_type": "code",
   "execution_count": 4,
   "metadata": {
    "pycharm": {
     "is_executing": false
    }
   },
   "outputs": [
    {
     "data": {
      "text/markdown": [
       "<h4 id=\"FixedTargetDQN.target_copy_over\" class=\"doc_header\"><code>target_copy_over</code><a class=\"source_link\" data-toggle=\"collapse\" data-target=\"#FixedTargetDQN-target_copy_over-pytest\" style=\"float:right; padding-right:10px\">[test]</a></h4>\n",
       "\n",
       "> <code>target_copy_over</code>()\n",
       "\n",
       "<div class=\"collapse\" id=\"FixedTargetDQN-target_copy_over-pytest\"><div class=\"card card-body pytest_card\"><a type=\"button\" data-toggle=\"collapse\" data-target=\"#FixedTargetDQN-target_copy_over-pytest\" class=\"close\" aria-label=\"Close\"><span aria-hidden=\"true\">&times;</span></a><p>No tests found for <code>target_copy_over</code>. To contribute a test please refer to <a href=\"/dev/test.html\">this guide</a> and <a href=\"https://forums.fast.ai/t/improving-expanding-functional-tests/32929\">this discussion</a>.</p></div></div>\n",
       "\n",
       "Updates the target network from calls in the FixedTargetDQNCallback callback.  "
      ],
      "text/plain": [
       "<IPython.core.display.Markdown object>"
      ]
     },
     "metadata": {},
     "output_type": "display_data"
    }
   ],
   "source": [
    "show_doc(FixedTargetDQN.target_copy_over)"
   ]
  },
  {
   "cell_type": "markdown",
   "metadata": {},
   "source": [
    "The batch size will be defined in the data class because `DataBunches` already require a \n",
    "batch size input. This batch size will be used by the model during optimization."
   ]
  },
  {
   "cell_type": "code",
   "execution_count": 5,
   "metadata": {
    "pycharm": {
     "is_executing": false
    }
   },
   "outputs": [],
   "source": [
    "model = FixedTargetDQN(data, memory=ExperienceReplay(memory_size=1000, reduce_ram=True))"
   ]
  },
  {
   "cell_type": "code",
   "execution_count": 6,
   "metadata": {
    "pycharm": {
     "is_executing": false
    }
   },
   "outputs": [
    {
     "data": {
      "text/markdown": [
       "<h4 id=\"FixedTargetDQNCallback.__init__\" class=\"doc_header\"><code>__init__</code><a class=\"source_link\" data-toggle=\"collapse\" data-target=\"#FixedTargetDQNCallback-__init__-pytest\" style=\"float:right; padding-right:10px\">[test]</a></h4>\n",
       "\n",
       "> <code>__init__</code>(**`learn`**, **`copy_over_frequency`**=***`3`***)\n",
       "\n",
       "<div class=\"collapse\" id=\"FixedTargetDQNCallback-__init__-pytest\"><div class=\"card card-body pytest_card\"><a type=\"button\" data-toggle=\"collapse\" data-target=\"#FixedTargetDQNCallback-__init__-pytest\" class=\"close\" aria-label=\"Close\"><span aria-hidden=\"true\">&times;</span></a><p>No tests found for <code>__init__</code>. To contribute a test please refer to <a href=\"/dev/test.html\">this guide</a> and <a href=\"https://forums.fast.ai/t/improving-expanding-functional-tests/32929\">this discussion</a>.</p></div></div>\n",
       "\n",
       "Handles updating the target model in a fixed target DQN. Args:\n",
       "    learn: Basic Learner.\n",
       "    copy_over_frequency: For every N iterations we want to update the target model. "
      ],
      "text/plain": [
       "<IPython.core.display.Markdown object>"
      ]
     },
     "metadata": {},
     "output_type": "display_data"
    }
   ],
   "source": [
    "show_doc(FixedTargetDQNCallback.__init__)"
   ]
  },
  {
   "cell_type": "markdown",
   "metadata": {},
   "source": [
    "Used by fastai API for training the model."
   ]
  },
  {
   "cell_type": "code",
   "execution_count": 7,
   "metadata": {
    "pycharm": {
     "is_executing": false
    }
   },
   "outputs": [
    {
     "data": {
      "text/html": [
       "\n",
       "    <div>\n",
       "        <style>\n",
       "            /* Turns off some styling */\n",
       "            progress {\n",
       "                /* gets rid of default border in Firefox and Opera. */\n",
       "                border: none;\n",
       "                /* Needs to be in here for Safari polyfill so background images work as expected. */\n",
       "                background-size: auto;\n",
       "            }\n",
       "            .progress-bar-interrupted, .progress-bar-interrupted::-webkit-progress-bar {\n",
       "                background: #F44336;\n",
       "            }\n",
       "        </style>\n",
       "      <progress value='0' class='' max='3', style='width:300px; height:20px; vertical-align: middle;'></progress>\n",
       "      \n",
       "    </div>\n",
       "    \n"
      ],
      "text/plain": [
       "<IPython.core.display.HTML object>"
      ]
     },
     "metadata": {},
     "output_type": "display_data"
    },
    {
     "data": {
      "image/png": "[encoded data removed]",
      "text/plain": [
       "<Figure size 432x288 with 1 Axes>"
      ]
     },
     "metadata": {
      "needs_background": "light"
     },
     "output_type": "display_data"
    }
   ],
   "source": [
    "learn = AgentLearner(data, model)\n",
    "learn.fit(3)\n",
    "data.close()\n",
    "learn.recorder.plot_losses()"
   ]
  },
  {
   "cell_type": "code",
   "execution_count": 8,
   "metadata": {
    "pycharm": {
     "is_executing": false
    }
   },
   "outputs": [],
   "source": [
    "interp = AgentInterpretation(learn)"
   ]
  },
  {
   "cell_type": "code",
   "execution_count": 9,
   "metadata": {
    "pycharm": {
     "is_executing": false
    }
   },
   "outputs": [
    {
     "data": {
      "image/png": "[encoded data removed]",
      "text/plain": [
       "<Figure size 360x360 with 1 Axes>"
      ]
     },
     "metadata": {
      "needs_background": "light"
     },
     "output_type": "display_data"
    }
   ],
   "source": [
    "interp.plot_rewards(cumulative=True, per_episode=True, group_name='run')"
   ]
  },
  {
   "cell_type": "markdown",
   "metadata": {},
   "source": [
    "We can also pipe-line this to truly see how our model actually performs."
   ]
  },
  {
   "cell_type": "code",
   "execution_count": null,
   "metadata": {
    "pycharm": {
     "is_executing": true
    }
   },
   "outputs": [],
   "source": [
    "group_interp = GroupAgentInterpretation()\n",
    "group_interp.add_interpretation(interp)\n",
    "for i in range(4):\n",
    "    data = MDPDataBunch.from_env('CartPole-v1', render='rgb_array', bs=128)\n",
    "    model = FixedTargetDQN(data, memory=ExperienceReplay(memory_size=100000, reduce_ram=True))\n",
    "    learn = AgentLearner(data, model)\n",
    "    learn.fit(3)\n",
    "    interp = AgentInterpretation(learn)\n",
    "    interp.plot_rewards(cumulative=True, per_episode=True, group_name='run', no_show=True)\n",
    "    group_interp.add_interpretation(interp)\n",
    "    data.close()"
   ]
  },
  {
   "cell_type": "code",
   "execution_count": null,
   "metadata": {
    "pycharm": {
     "is_executing": true
    }
   },
   "outputs": [],
   "source": [
    "group_interp.plot_reward_bounds(per_episode=True)"
   ]
  },
  {
   "cell_type": "code",
   "execution_count": null,
   "metadata": {
    "pycharm": {
     "is_executing": true
    }
   },
   "outputs": [],
   "source": [
    "[g.analysis for g in group_interp.groups]"
   ]
  },
  {
   "cell_type": "code",
   "execution_count": null,
   "metadata": {
    "pycharm": {
     "is_executing": true
    }
   },
   "outputs": [],
   "source": [
    "group_interp.append_meta('run1').to_pickle('data/fixed_target_dqn', 'fixed_target_dqn')"
   ]
  },
  {
   "cell_type": "code",
   "execution_count": null,
   "metadata": {
    "pycharm": {
     "is_executing": true
    }
   },
   "outputs": [],
   "source": [
    "from_pickle_interp = group_interp.from_pickle('data/fixed_target_dqn', 'fixed_target_dqn')"
   ]
  },
  {
   "cell_type": "code",
   "execution_count": null,
   "metadata": {
    "pycharm": {
     "is_executing": true
    }
   },
   "outputs": [],
   "source": [
    "from_pickle_interp.plot_reward_bounds(per_episode=True)"
   ]
  }
 ],
 "metadata": {
  "kernelspec": {
   "display_name": "Python 3",
   "language": "python",
   "name": "python3"
  },
  "language_info": {
   "codemirror_mode": {
    "name": "ipython",
    "version": 3
   },
   "file_extension": ".py",
   "mimetype": "text/x-python",
   "name": "python",
   "nbconvert_exporter": "python",
   "pygments_lexer": "ipython3",
   "version": "3.6.9"
  },
  "pycharm": {
   "stem_cell": {
    "cell_type": "raw",
    "metadata": {
     "collapsed": false
    },
    "source": []
   }
  }
 },
 "nbformat": 4,
 "nbformat_minor": 1
}
