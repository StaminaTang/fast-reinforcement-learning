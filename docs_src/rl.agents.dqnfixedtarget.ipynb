{
 "cells": [
  {
   "cell_type": "code",
   "execution_count": 1,
   "metadata": {
    "pycharm": {
     "is_executing": true
    }
   },
   "outputs": [],
   "source": [
    "from fast_rl.core.basic_train import AgentLearner\n",
    "from fast_rl.agents.dqn import FixedTargetDQN, FixedTargetDQNCallback\n",
    "from fast_rl.core.train import AgentInterpretation\n",
    "from fast_rl.core.data_block import MDPDataBunch\n",
    "from fast_rl.core.agent_core import ExperienceReplay, GreedyEpsilon\n",
    "from fastai.gen_doc.nbdoc import *\n",
    "from fastai.tabular import tabular_learner"
   ]
  },
  {
   "cell_type": "code",
   "execution_count": 2,
   "metadata": {},
   "outputs": [],
   "source": [
    "data = MDPDataBunch.from_env('CartPole-v1', render='rgb_array', bs=128)"
   ]
  },
  {
   "cell_type": "code",
   "execution_count": 3,
   "metadata": {},
   "outputs": [
    {
     "data": {
      "text/markdown": [
       "<h4 id=\"FixedTargetDQN.__init__\" class=\"doc_header\"><code>__init__</code><a class=\"source_link\" data-toggle=\"collapse\" data-target=\"#FixedTargetDQN-__init__-pytest\" style=\"float:right; padding-right:10px\">[test]</a></h4>\n",
       "\n",
       "> <code>__init__</code>(**`data`**:`MDPDataBunch`, **`memory`**=***`None`***, **`tau`**=***`0.01`***, **`copy_over_frequency`**=***`3`***, **\\*\\*`kwargs`**)\n",
       "\n",
       "<div class=\"collapse\" id=\"FixedTargetDQN-__init__-pytest\"><div class=\"card card-body pytest_card\"><a type=\"button\" data-toggle=\"collapse\" data-target=\"#FixedTargetDQN-__init__-pytest\" class=\"close\" aria-label=\"Close\"><span aria-hidden=\"true\">&times;</span></a><p>No tests found for <code>__init__</code>. To contribute a test please refer to <a href=\"/dev/test.html\">this guide</a> and <a href=\"https://forums.fast.ai/t/improving-expanding-functional-tests/32929\">this discussion</a>.</p></div></div>\n",
       "\n",
       "Trains an Agent using the Q Learning method on a 2 neural nets. Notes:\n",
       "    Unlike the base DQN, this is a true reflection of ref [1]. We use 2 models instead of one to allow for\n",
       "    training the action model more stably.\n",
       "\n",
       "Args:\n",
       "    data: Used for size input / output information.\n",
       "\n",
       "References:\n",
       "    [1] Mnih, Volodymyr, et al. \"Playing atari with deep reinforcement learning.\"\n",
       "    arXiv preprint arXiv:1312.5602 (2013). "
      ],
      "text/plain": [
       "<IPython.core.display.Markdown object>"
      ]
     },
     "metadata": {},
     "output_type": "display_data"
    }
   ],
   "source": [
    "show_doc(FixedTargetDQN.__init__)"
   ]
  },
  {
   "cell_type": "code",
   "execution_count": 4,
   "metadata": {},
   "outputs": [
    {
     "data": {
      "text/markdown": [
       "<h4 id=\"FixedTargetDQN.target_copy_over\" class=\"doc_header\"><code>target_copy_over</code><a class=\"source_link\" data-toggle=\"collapse\" data-target=\"#FixedTargetDQN-target_copy_over-pytest\" style=\"float:right; padding-right:10px\">[test]</a></h4>\n",
       "\n",
       "> <code>target_copy_over</code>()\n",
       "\n",
       "<div class=\"collapse\" id=\"FixedTargetDQN-target_copy_over-pytest\"><div class=\"card card-body pytest_card\"><a type=\"button\" data-toggle=\"collapse\" data-target=\"#FixedTargetDQN-target_copy_over-pytest\" class=\"close\" aria-label=\"Close\"><span aria-hidden=\"true\">&times;</span></a><p>No tests found for <code>target_copy_over</code>. To contribute a test please refer to <a href=\"/dev/test.html\">this guide</a> and <a href=\"https://forums.fast.ai/t/improving-expanding-functional-tests/32929\">this discussion</a>.</p></div></div>\n",
       "\n",
       "Updates the target network from calls in the FixedTargetDQNCallback callback.  "
      ],
      "text/plain": [
       "<IPython.core.display.Markdown object>"
      ]
     },
     "metadata": {},
     "output_type": "display_data"
    }
   ],
   "source": [
    "show_doc(FixedTargetDQN.target_copy_over)"
   ]
  },
  {
   "cell_type": "markdown",
   "metadata": {},
   "source": [
    "The batch size will be defined in the data class because `DataBunches` already require a \n",
    "batch size input. This batch size will be used by the model during optimization."
   ]
  },
  {
   "cell_type": "code",
   "execution_count": 5,
   "metadata": {
    "pycharm": {
     "is_executing": true
    }
   },
   "outputs": [],
   "source": [
    "model = FixedTargetDQN(data, memory=ExperienceReplay(memory_size=1000, reduce_ram=True))"
   ]
  },
  {
   "cell_type": "code",
   "execution_count": 6,
   "metadata": {},
   "outputs": [
    {
     "data": {
      "text/markdown": [
       "<h4 id=\"FixedTargetDQNCallback.__init__\" class=\"doc_header\"><code>__init__</code><a class=\"source_link\" data-toggle=\"collapse\" data-target=\"#FixedTargetDQNCallback-__init__-pytest\" style=\"float:right; padding-right:10px\">[test]</a></h4>\n",
       "\n",
       "> <code>__init__</code>(**`learn`**, **`copy_over_frequency`**=***`3`***)\n",
       "\n",
       "<div class=\"collapse\" id=\"FixedTargetDQNCallback-__init__-pytest\"><div class=\"card card-body pytest_card\"><a type=\"button\" data-toggle=\"collapse\" data-target=\"#FixedTargetDQNCallback-__init__-pytest\" class=\"close\" aria-label=\"Close\"><span aria-hidden=\"true\">&times;</span></a><p>No tests found for <code>__init__</code>. To contribute a test please refer to <a href=\"/dev/test.html\">this guide</a> and <a href=\"https://forums.fast.ai/t/improving-expanding-functional-tests/32929\">this discussion</a>.</p></div></div>\n",
       "\n",
       "Handles updating the target model in a fixed target DQN. Args:\n",
       "    learn: Basic Learner.\n",
       "    copy_over_frequency: For every N iterations we want to update the target model. "
      ],
      "text/plain": [
       "<IPython.core.display.Markdown object>"
      ]
     },
     "metadata": {},
     "output_type": "display_data"
    }
   ],
   "source": [
    "show_doc(FixedTargetDQNCallback.__init__)"
   ]
  },
  {
   "cell_type": "markdown",
   "metadata": {},
   "source": [
    "Used by fastai API for training the model."
   ]
  },
  {
   "cell_type": "code",
   "execution_count": 7,
   "metadata": {},
   "outputs": [
    {
     "data": {
      "text/html": [
       "<table border=\"1\" class=\"dataframe\">\n",
       "  <thead>\n",
       "    <tr style=\"text-align: left;\">\n",
       "      <th>epoch</th>\n",
       "      <th>train_loss</th>\n",
       "      <th>valid_loss</th>\n",
       "      <th>time</th>\n",
       "    </tr>\n",
       "  </thead>\n",
       "  <tbody>\n",
       "    <tr>\n",
       "      <td>0</td>\n",
       "      <td>0.496130</td>\n",
       "      <td>0.297049</td>\n",
       "      <td>00:06</td>\n",
       "    </tr>\n",
       "    <tr>\n",
       "      <td>1</td>\n",
       "      <td>0.179934</td>\n",
       "      <td>0.014523</td>\n",
       "      <td>00:01</td>\n",
       "    </tr>\n",
       "    <tr>\n",
       "      <td>2</td>\n",
       "      <td>0.105807</td>\n",
       "      <td>0.015887</td>\n",
       "      <td>00:01</td>\n",
       "    </tr>\n",
       "  </tbody>\n",
       "</table>"
      ],
      "text/plain": [
       "<IPython.core.display.HTML object>"
      ]
     },
     "metadata": {},
     "output_type": "display_data"
    },
    {
     "data": {
      "image/png": "[encoded data removed]",
      "text/plain": [
       "<Figure size 432x288 with 1 Axes>"
      ]
     },
     "metadata": {
      "needs_background": "light"
     },
     "output_type": "display_data"
    }
   ],
   "source": [
    "learn = AgentLearner(data, model)\n",
    "learn.fit(3)\n",
    "learn.recorder.plot_losses()"
   ]
  }
 ],
 "metadata": {
  "kernelspec": {
   "display_name": "Python 3",
   "language": "python",
   "name": "python3"
  },
  "language_info": {
   "codemirror_mode": {
    "name": "ipython",
    "version": 3
   },
   "file_extension": ".py",
   "mimetype": "text/x-python",
   "name": "python",
   "nbconvert_exporter": "python",
   "pygments_lexer": "ipython3",
   "version": "3.6.9"
  },
  "pycharm": {
   "stem_cell": {
    "cell_type": "raw",
    "metadata": {
     "collapsed": false
    },
    "source": []
   }
  }
 },
 "nbformat": 4,
 "nbformat_minor": 1
}
